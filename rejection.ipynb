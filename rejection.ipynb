{
 "metadata": {
  "language_info": {
   "codemirror_mode": {
    "name": "ipython",
    "version": 3
   },
   "file_extension": ".py",
   "mimetype": "text/x-python",
   "name": "python",
   "nbconvert_exporter": "python",
   "pygments_lexer": "ipython3",
   "version": "3.7.4-final"
  },
  "orig_nbformat": 2,
  "kernelspec": {
   "name": "python_defaultSpec_1601577402938",
   "display_name": "Python 3.7.4 64-bit ('base': conda)"
  }
 },
 "nbformat": 4,
 "nbformat_minor": 2,
 "cells": [
  {
   "cell_type": "code",
   "execution_count": 5,
   "metadata": {},
   "outputs": [
    {
     "output_type": "error",
     "ename": "ImportError",
     "evalue": "cannot import name 'file' from 'os' (/home/rweas/anaconda3/lib/python3.7/os.py)",
     "traceback": [
      "\u001b[0;31m---------------------------------------------------------------------------\u001b[0m",
      "\u001b[0;31mImportError\u001b[0m                               Traceback (most recent call last)",
      "\u001b[0;32m<ipython-input-5-5d08073bee21>\u001b[0m in \u001b[0;36m<module>\u001b[0;34m\u001b[0m\n\u001b[1;32m      2\u001b[0m \u001b[0;32mimport\u001b[0m \u001b[0mmne\u001b[0m\u001b[0;34m\u001b[0m\u001b[0;34m\u001b[0m\u001b[0m\n\u001b[1;32m      3\u001b[0m \u001b[0;32mimport\u001b[0m \u001b[0mpandas\u001b[0m \u001b[0;32mas\u001b[0m \u001b[0mpd\u001b[0m\u001b[0;34m\u001b[0m\u001b[0;34m\u001b[0m\u001b[0m\n\u001b[0;32m----> 4\u001b[0;31m \u001b[0;32mfrom\u001b[0m \u001b[0mos\u001b[0m \u001b[0;32mimport\u001b[0m \u001b[0mfile\u001b[0m\u001b[0;34m\u001b[0m\u001b[0;34m\u001b[0m\u001b[0m\n\u001b[0m\u001b[1;32m      5\u001b[0m \u001b[0;34m\u001b[0m\u001b[0m\n\u001b[1;32m      6\u001b[0m \u001b[0;31m# sample_data_folder = mne.datasets.sample.data_path()\u001b[0m\u001b[0;34m\u001b[0m\u001b[0;34m\u001b[0m\u001b[0;34m\u001b[0m\u001b[0m\n",
      "\u001b[0;31mImportError\u001b[0m: cannot import name 'file' from 'os' (/home/rweas/anaconda3/lib/python3.7/os.py)"
     ]
    }
   ],
   "source": [
    "import os\n",
    "import mne\n",
    "import pandas as pd\n",
    "\n",
    "# sample_data_folder = mne.datasets.sample.data_path()\n",
    "# sample_data_raw_file = os.path.join(sample_data_folder, 'MEG', 'sample',\n",
    "#                                     'sample_audvis_filt-0-40_raw.fif')\n",
    "sfreq = 256\n",
    "df = pd.read_csv('./raw_data/asd/A100_raw_256Hz.asc', sep='\\t', index_col=False) # Create a pandas DataFrame for the file\n",
    "df = df.iloc[:, :-1] # Remove last column (just a csv read error)\n",
    "data = df.to_numpy() # Get a numpy copy of the data\n",
    "chNames = df.columns.to_list() # Pull out column names for labels\n",
    "dataT = data.T # Transpose data (mne uses rows to represent each channel, but .csv uses columns)\n",
    "info = mne.create_info(chNames, sfreq, 'eeg')  # Create the info structure needed by MNE\n",
    "raw = mne.io.RawArray(dataT, info) # Create the raw MNE object\n",
    "# raw.plot() # Plot raw data PSD and first chanel for 3 and 10 secs  \n",
    "mne.viz.plot_raw_psd(raw, fmin=0,fmax=30)# events_file = os.path.join(sample_data_folder, 'MEG', 'sample',\n",
    "#                            'sample_audvis_filt-0-40_raw-eve.fif')\n",
    "# events = mne.read_events(events_file)\n",
    "\n",
    "# info = mne.create_info(chNames, sfreq, 'eeg')  # Create the info structure needed by MNE\n"
   ]
  },
  {
   "cell_type": "code",
   "execution_count": null,
   "metadata": {},
   "outputs": [],
   "source": []
  }
 ]
}